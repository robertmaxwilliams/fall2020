{
 "cells": [
  {
   "cell_type": "code",
   "execution_count": 12,
   "metadata": {},
   "outputs": [],
   "source": [
    "import itertools"
   ]
  },
  {
   "cell_type": "code",
   "execution_count": 21,
   "metadata": {},
   "outputs": [],
   "source": [
    "import random"
   ]
  },
  {
   "cell_type": "code",
   "execution_count": 17,
   "metadata": {},
   "outputs": [
    {
     "data": {
      "text/plain": [
       "(({10, 11, 23, 30}, {1, 19, 54}), True, 0)"
      ]
     },
     "execution_count": 17,
     "metadata": {},
     "output_type": "execute_result"
    }
   ],
   "source": [
    "def swippy_swap(set1, set2, item1, item2):\n",
    "    a = set1.copy()\n",
    "    a.discard(item1)\n",
    "    a.add(item2)\n",
    "    b = set2.copy()\n",
    "    b.discard(item2)\n",
    "    b.add(item1)\n",
    "    return a, b\n",
    "\n",
    "def cost(set1, set2):\n",
    "    return abs(sum(set1)-sum(set2))\n",
    "\n",
    "def swippy_swappy_search(set1, set2):\n",
    "    minn = cost(set1, set2)\n",
    "    minns = (set1, set2)\n",
    "    changed = False\n",
    "    for item1 in set1:\n",
    "        for item2 in set2:\n",
    "            foo, bar = swippy_swap(set1, set2, item1, item2)\n",
    "            if cost(foo, bar) < minn:\n",
    "                minn = cost(foo, bar)\n",
    "                minns = (foo, bar)\n",
    "                changed = True\n",
    "    return minns, changed, minn\n",
    "\n",
    "def repeated_swippy_swappy_search(set1, set2):\n",
    "    while True:\n",
    "        (set1, set2), changed, minn = swippy_swappy_search(set1, set2)\n",
    "        if not changed:\n",
    "            return (set1, set2), minn\n",
    "\n",
    "def global_search(set1, set2):\n",
    "    '''Take all equal size half subsets lol'''\n",
    "    mega_set = set1 | set2\n",
    "    minn = cost(set1, set2)\n",
    "    minns = (set1, set2)\n",
    "    for items in itertools.combinations(mega_set, len(mega_set)//2):\n",
    "        sitems = set(items)\n",
    "        rosco = cost(sitems, mega_set - sitems)\n",
    "        if rosco < minn:\n",
    "            minn = rosco\n",
    "            minns = (sitems, mega_set - sitems)\n",
    "    return minns, minn\n",
    "        \n",
    "swippy_swappy_search({1, 10, 23, 30}, {1, 19, 11, 54})"
   ]
  },
  {
   "cell_type": "code",
   "execution_count": 18,
   "metadata": {},
   "outputs": [
    {
     "data": {
      "text/plain": [
       "(({2, 3, 5}, {1, 4, 6}), 1)"
      ]
     },
     "execution_count": 18,
     "metadata": {},
     "output_type": "execute_result"
    }
   ],
   "source": [
    "repeated_swippy_swappy_search({1, 2, 3}, {4, 5, 6})"
   ]
  },
  {
   "cell_type": "code",
   "execution_count": 19,
   "metadata": {},
   "outputs": [
    {
     "data": {
      "text/plain": [
       "[(1, 2), (1, 3), (1, 4), (2, 3), (2, 4), (3, 4)]"
      ]
     },
     "execution_count": 19,
     "metadata": {},
     "output_type": "execute_result"
    }
   ],
   "source": [
    "list(itertools.combinations({1, 2, 3, 4}, 2))"
   ]
  },
  {
   "cell_type": "code",
   "execution_count": 20,
   "metadata": {},
   "outputs": [
    {
     "data": {
      "text/plain": [
       "(({1, 3, 6}, {2, 4, 5}), 1)"
      ]
     },
     "execution_count": 20,
     "metadata": {},
     "output_type": "execute_result"
    }
   ],
   "source": [
    "global_search({1, 2, 3}, {4, 5, 6})"
   ]
  },
  {
   "cell_type": "code",
   "execution_count": 81,
   "metadata": {},
   "outputs": [
    {
     "name": "stdout",
     "output_type": "stream",
     "text": [
      "({8, 9, 2, 1}, {3, 4, 5, 6}) 2 ({1, 3, 6, 9}, {8, 2, 4, 5}) 0\n",
      "({3, 4, 5, 6}, {8, 9, 2, 1}) 2 ({1, 3, 6, 9}, {8, 2, 4, 5}) 0\n",
      "({4, 5, 6, 7}, {8, 9, 2, 1}) 2 ({1, 4, 9, 7}, {8, 2, 5, 6}) 0\n",
      "({8, 1, 2, 9}, {3, 4, 5, 6}) 2 ({1, 3, 6, 9}, {8, 2, 4, 5}) 0\n",
      "({8, 9, 2, 1}, {3, 4, 5, 6}) 2 ({1, 3, 6, 9}, {8, 2, 4, 5}) 0\n",
      "({8, 9, 2, 1}, {4, 5, 6, 7}) 2 ({1, 4, 9, 7}, {8, 2, 5, 6}) 0\n",
      "({8, 1, 2, 9}, {4, 5, 6, 7}) 2 ({1, 4, 9, 7}, {8, 2, 5, 6}) 0\n",
      "({4, 5, 6, 7}, {8, 1, 2, 9}) 2 ({1, 4, 9, 7}, {8, 2, 5, 6}) 0\n",
      "({4, 5, 6, 7}, {8, 9, 2, 1}) 2 ({1, 4, 9, 7}, {8, 2, 5, 6}) 0\n",
      "({4, 5, 6, 7}, {8, 1, 2, 9}) 2 ({1, 4, 9, 7}, {8, 2, 5, 6}) 0\n",
      "({3, 4, 5, 6}, {8, 9, 2, 1}) 2 ({1, 3, 6, 9}, {8, 2, 4, 5}) 0\n",
      "({8, 9, 2, 1}, {3, 4, 5, 6}) 2 ({1, 3, 6, 9}, {8, 2, 4, 5}) 0\n",
      "({8, 1, 2, 9}, {4, 5, 6, 7}) 2 ({1, 4, 9, 7}, {8, 2, 5, 6}) 0\n",
      "({3, 4, 5, 6}, {8, 1, 2, 9}) 2 ({1, 3, 6, 9}, {8, 2, 4, 5}) 0\n",
      "({4, 5, 6, 7}, {8, 1, 2, 9}) 2 ({1, 4, 9, 7}, {8, 2, 5, 6}) 0\n",
      "({8, 9, 2, 1}, {3, 4, 5, 6}) 2 ({1, 3, 6, 9}, {8, 2, 4, 5}) 0\n",
      "({8, 1, 2, 9}, {4, 5, 6, 7}) 2 ({1, 4, 9, 7}, {8, 2, 5, 6}) 0\n",
      "({8, 1, 2, 9}, {3, 4, 5, 6}) 2 ({1, 3, 6, 9}, {8, 2, 4, 5}) 0\n",
      "({8, 9, 2, 1}, {4, 5, 6, 7}) 2 ({1, 4, 9, 7}, {8, 2, 5, 6}) 0\n",
      "({8, 9, 2, 1}, {3, 4, 5, 6}) 2 ({1, 3, 6, 9}, {8, 2, 4, 5}) 0\n",
      "({4, 5, 6, 7}, {8, 9, 2, 1}) 2 ({1, 4, 9, 7}, {8, 2, 5, 6}) 0\n",
      "({8, 1, 2, 9}, {4, 5, 6, 7}) 2 ({1, 4, 9, 7}, {8, 2, 5, 6}) 0\n",
      "({8, 9, 2, 1}, {4, 5, 6, 7}) 2 ({1, 4, 9, 7}, {8, 2, 5, 6}) 0\n",
      "({4, 5, 6, 7}, {8, 1, 2, 9}) 2 ({1, 4, 9, 7}, {8, 2, 5, 6}) 0\n",
      "({4, 5, 6, 7}, {8, 9, 2, 1}) 2 ({1, 4, 9, 7}, {8, 2, 5, 6}) 0\n",
      "({4, 5, 6, 7}, {8, 1, 2, 9}) 2 ({1, 4, 9, 7}, {8, 2, 5, 6}) 0\n",
      "({8, 1, 2, 9}, {3, 4, 5, 6}) 2 ({1, 3, 6, 9}, {8, 2, 4, 5}) 0\n",
      "({8, 1, 2, 9}, {3, 4, 5, 6}) 2 ({1, 3, 6, 9}, {8, 2, 4, 5}) 0\n",
      "({3, 4, 5, 6}, {8, 9, 2, 1}) 2 ({1, 3, 6, 9}, {8, 2, 4, 5}) 0\n",
      "({4, 5, 6, 7}, {8, 9, 2, 1}) 2 ({1, 4, 9, 7}, {8, 2, 5, 6}) 0\n",
      "({8, 1, 2, 9}, {3, 4, 5, 6}) 2 ({1, 3, 6, 9}, {8, 2, 4, 5}) 0\n",
      "({8, 1, 2, 9}, {3, 4, 5, 6}) 2 ({1, 3, 6, 9}, {8, 2, 4, 5}) 0\n",
      "({3, 4, 5, 6}, {8, 9, 2, 1}) 2 ({1, 3, 6, 9}, {8, 2, 4, 5}) 0\n",
      "({8, 9, 2, 1}, {3, 4, 5, 6}) 2 ({1, 3, 6, 9}, {8, 2, 4, 5}) 0\n",
      "({3, 4, 5, 6}, {8, 1, 2, 9}) 2 ({1, 3, 6, 9}, {8, 2, 4, 5}) 0\n",
      "({8, 9, 2, 1}, {3, 4, 5, 6}) 2 ({1, 3, 6, 9}, {8, 2, 4, 5}) 0\n",
      "({3, 4, 5, 6}, {8, 1, 2, 9}) 2 ({1, 3, 6, 9}, {8, 2, 4, 5}) 0\n",
      "({3, 4, 5, 6}, {8, 1, 2, 9}) 2 ({1, 3, 6, 9}, {8, 2, 4, 5}) 0\n",
      "({4, 5, 6, 7}, {8, 9, 2, 1}) 2 ({1, 4, 9, 7}, {8, 2, 5, 6}) 0\n",
      "({8, 9, 2, 1}, {3, 4, 5, 6}) 2 ({1, 3, 6, 9}, {8, 2, 4, 5}) 0\n",
      "({3, 4, 5, 6}, {8, 9, 2, 1}) 2 ({1, 3, 6, 9}, {8, 2, 4, 5}) 0\n",
      "({8, 9, 2, 1}, {3, 4, 5, 6}) 2 ({1, 3, 6, 9}, {8, 2, 4, 5}) 0\n",
      "({8, 1, 2, 9}, {4, 5, 6, 7}) 2 ({1, 4, 9, 7}, {8, 2, 5, 6}) 0\n",
      "({4, 5, 6, 7}, {8, 9, 2, 1}) 2 ({1, 4, 9, 7}, {8, 2, 5, 6}) 0\n"
     ]
    },
    {
     "data": {
      "text/plain": [
       "8246"
      ]
     },
     "execution_count": 81,
     "metadata": {},
     "output_type": "execute_result"
    }
   ],
   "source": [
    "nels = 4\n",
    "crunchy = 0\n",
    "for _ in range(1000000):\n",
    "    foo = {random.randint(1, 9) for _ in range(nels)}\n",
    "    bar = {random.randint(1, 9) for _ in range(nels)}\n",
    "    if len(foo) != nels:\n",
    "        continue\n",
    "    if len(bar) != nels:\n",
    "        continue \n",
    "    if len(foo|bar) != 2*nels:\n",
    "        continue\n",
    "    crunchy += 1\n",
    "    sets, minn = repeated_swippy_swappy_search(foo, bar)\n",
    "    gsets, gminn = global_search(foo, bar)\n",
    "    if minn != gminn:\n",
    "        print(sets, minn, gsets, gminn)\n",
    "crunchy"
   ]
  },
  {
   "cell_type": "code",
   "execution_count": null,
   "metadata": {},
   "outputs": [],
   "source": []
  },
  {
   "cell_type": "code",
   "execution_count": null,
   "metadata": {},
   "outputs": [],
   "source": []
  }
 ],
 "metadata": {
  "kernelspec": {
   "display_name": "Python 3",
   "language": "python",
   "name": "python3"
  },
  "language_info": {
   "codemirror_mode": {
    "name": "ipython",
    "version": 3
   },
   "file_extension": ".py",
   "mimetype": "text/x-python",
   "name": "python",
   "nbconvert_exporter": "python",
   "pygments_lexer": "ipython3",
   "version": "3.8.2"
  }
 },
 "nbformat": 4,
 "nbformat_minor": 4
}
